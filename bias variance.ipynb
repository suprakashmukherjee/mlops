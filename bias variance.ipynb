{
 "cells": [
  {
   "cell_type": "code",
   "execution_count": 1,
   "id": "77e1b8ef-9d4f-4cb6-acbf-834f664fd24e",
   "metadata": {},
   "outputs": [],
   "source": [
    "import numpy as np\n",
    "from sklearn.model_selection import train_test_split\n",
    "from sklearn.linear_model import LinearRegression\n",
    "from sklearn.metrics import mean_squared_error"
   ]
  },
  {
   "cell_type": "code",
   "execution_count": 2,
   "id": "bfdde3e5-2948-4dcd-8656-f3a23b230eac",
   "metadata": {},
   "outputs": [],
   "source": [
    "def generate_data(n_samples=1000):\n",
    "    X = np.linspace(0, 10, n_samples).reshape(-1, 1)\n",
    "    y = 2 * X + 1 + np.random.randn(n_samples, 1) * 2\n",
    "    return X, y\n",
    "\n",
    "def calculate_bias_variance(model, X, y, n_iterations=100):\n",
    "    predictions = np.zeros((len(X), n_iterations))\n",
    "    \n",
    "    for i in range(n_iterations):\n",
    "        X_train, _, y_train, _ = train_test_split(X, y, test_size=0.3)\n",
    "        model.fit(X_train, y_train)\n",
    "        predictions[:, i] = model.predict(X).ravel()\n",
    "    \n",
    "    expected_predictions = np.mean(predictions, axis=1)\n",
    "    bias = np.mean((y.ravel() - expected_predictions) ** 2)\n",
    "    variance = np.mean(np.var(predictions, axis=1))\n",
    "    \n",
    "    return bias, variance"
   ]
  },
  {
   "cell_type": "code",
   "execution_count": 3,
   "id": "65c66cc6-9c5c-4465-8b90-44b398baf4f5",
   "metadata": {},
   "outputs": [],
   "source": [
    "# Generate data\n",
    "X, y = generate_data()"
   ]
  },
  {
   "cell_type": "code",
   "execution_count": 5,
   "id": "64392685-4250-43a1-a46b-2fb972ac13c5",
   "metadata": {},
   "outputs": [
    {
     "name": "stdout",
     "output_type": "stream",
     "text": [
      "Bias: 4.259952912194949\n",
      "Variance: 0.003629708055143869\n"
     ]
    }
   ],
   "source": [
    "# Create and evaluate model\n",
    "model = LinearRegression()\n",
    "bias, variance = calculate_bias_variance(model, X, y)\n",
    "\n",
    "print(f\"Bias: {bias}\")\n",
    "print(f\"Variance: {variance}\")"
   ]
  },
  {
   "cell_type": "code",
   "execution_count": null,
   "id": "c2a053fa-1236-4f46-a46b-894ea84babb0",
   "metadata": {},
   "outputs": [],
   "source": []
  },
  {
   "cell_type": "code",
   "execution_count": null,
   "id": "018977ba-727b-4703-91c5-f45772ac4b43",
   "metadata": {},
   "outputs": [],
   "source": []
  }
 ],
 "metadata": {
  "kernelspec": {
   "display_name": "Python 3 (ipykernel)",
   "language": "python",
   "name": "python3"
  },
  "language_info": {
   "codemirror_mode": {
    "name": "ipython",
    "version": 3
   },
   "file_extension": ".py",
   "mimetype": "text/x-python",
   "name": "python",
   "nbconvert_exporter": "python",
   "pygments_lexer": "ipython3",
   "version": "3.11.9"
  }
 },
 "nbformat": 4,
 "nbformat_minor": 5
}
